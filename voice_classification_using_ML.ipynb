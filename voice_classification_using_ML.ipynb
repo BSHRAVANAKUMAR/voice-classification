{
  "nbformat": 4,
  "nbformat_minor": 0,
  "metadata": {
    "colab": {
      "provenance": [],
      "collapsed_sections": []
    },
    "kernelspec": {
      "name": "python3",
      "display_name": "Python 3"
    },
    "language_info": {
      "name": "python"
    }
  },
  "cells": [
    {
      "cell_type": "code",
      "execution_count": 1,
      "metadata": {
        "colab": {
          "base_uri": "https://localhost:8080/"
        },
        "id": "Phh8qtFm6hAe",
        "outputId": "d8e089d4-3259-4f45-f811-b9e4db3a57c0"
      },
      "outputs": [
        {
          "output_type": "stream",
          "name": "stdout",
          "text": [
            "Looking in indexes: https://pypi.org/simple, https://us-python.pkg.dev/colab-wheels/public/simple/\n",
            "Requirement already satisfied: librosa in /usr/local/lib/python3.7/dist-packages (0.8.1)\n",
            "Requirement already satisfied: decorator>=3.0.0 in /usr/local/lib/python3.7/dist-packages (from librosa) (4.4.2)\n",
            "Requirement already satisfied: resampy>=0.2.2 in /usr/local/lib/python3.7/dist-packages (from librosa) (0.4.0)\n",
            "Requirement already satisfied: packaging>=20.0 in /usr/local/lib/python3.7/dist-packages (from librosa) (21.3)\n",
            "Requirement already satisfied: numpy>=1.15.0 in /usr/local/lib/python3.7/dist-packages (from librosa) (1.21.6)\n",
            "Requirement already satisfied: audioread>=2.0.0 in /usr/local/lib/python3.7/dist-packages (from librosa) (3.0.0)\n",
            "Requirement already satisfied: joblib>=0.14 in /usr/local/lib/python3.7/dist-packages (from librosa) (1.1.0)\n",
            "Requirement already satisfied: soundfile>=0.10.2 in /usr/local/lib/python3.7/dist-packages (from librosa) (0.10.3.post1)\n",
            "Requirement already satisfied: numba>=0.43.0 in /usr/local/lib/python3.7/dist-packages (from librosa) (0.56.2)\n",
            "Requirement already satisfied: pooch>=1.0 in /usr/local/lib/python3.7/dist-packages (from librosa) (1.6.0)\n",
            "Requirement already satisfied: scikit-learn!=0.19.0,>=0.14.0 in /usr/local/lib/python3.7/dist-packages (from librosa) (1.0.2)\n",
            "Requirement already satisfied: scipy>=1.0.0 in /usr/local/lib/python3.7/dist-packages (from librosa) (1.7.3)\n",
            "Requirement already satisfied: llvmlite<0.40,>=0.39.0dev0 in /usr/local/lib/python3.7/dist-packages (from numba>=0.43.0->librosa) (0.39.1)\n",
            "Requirement already satisfied: importlib-metadata in /usr/local/lib/python3.7/dist-packages (from numba>=0.43.0->librosa) (4.12.0)\n",
            "Requirement already satisfied: setuptools<60 in /usr/local/lib/python3.7/dist-packages (from numba>=0.43.0->librosa) (57.4.0)\n",
            "Requirement already satisfied: pyparsing!=3.0.5,>=2.0.2 in /usr/local/lib/python3.7/dist-packages (from packaging>=20.0->librosa) (3.0.9)\n",
            "Requirement already satisfied: appdirs>=1.3.0 in /usr/local/lib/python3.7/dist-packages (from pooch>=1.0->librosa) (1.4.4)\n",
            "Requirement already satisfied: requests>=2.19.0 in /usr/local/lib/python3.7/dist-packages (from pooch>=1.0->librosa) (2.23.0)\n",
            "Requirement already satisfied: certifi>=2017.4.17 in /usr/local/lib/python3.7/dist-packages (from requests>=2.19.0->pooch>=1.0->librosa) (2022.6.15)\n",
            "Requirement already satisfied: idna<3,>=2.5 in /usr/local/lib/python3.7/dist-packages (from requests>=2.19.0->pooch>=1.0->librosa) (2.10)\n",
            "Requirement already satisfied: urllib3!=1.25.0,!=1.25.1,<1.26,>=1.21.1 in /usr/local/lib/python3.7/dist-packages (from requests>=2.19.0->pooch>=1.0->librosa) (1.24.3)\n",
            "Requirement already satisfied: chardet<4,>=3.0.2 in /usr/local/lib/python3.7/dist-packages (from requests>=2.19.0->pooch>=1.0->librosa) (3.0.4)\n",
            "Requirement already satisfied: threadpoolctl>=2.0.0 in /usr/local/lib/python3.7/dist-packages (from scikit-learn!=0.19.0,>=0.14.0->librosa) (3.1.0)\n",
            "Requirement already satisfied: cffi>=1.0 in /usr/local/lib/python3.7/dist-packages (from soundfile>=0.10.2->librosa) (1.15.1)\n",
            "Requirement already satisfied: pycparser in /usr/local/lib/python3.7/dist-packages (from cffi>=1.0->soundfile>=0.10.2->librosa) (2.21)\n",
            "Requirement already satisfied: typing-extensions>=3.6.4 in /usr/local/lib/python3.7/dist-packages (from importlib-metadata->numba>=0.43.0->librosa) (4.1.1)\n",
            "Requirement already satisfied: zipp>=0.5 in /usr/local/lib/python3.7/dist-packages (from importlib-metadata->numba>=0.43.0->librosa) (3.8.1)\n"
          ]
        }
      ],
      "source": [
        "!pip install librosa"
      ]
    },
    {
      "cell_type": "code",
      "source": [
        "import os\n",
        "Root = \"/content/drive/MyDrive/RAVDESS DATA\"\n",
        "os.chdir(Root)"
      ],
      "metadata": {
        "id": "e-Z2rTRU7r71"
      },
      "execution_count": 2,
      "outputs": []
    },
    {
      "cell_type": "code",
      "source": [
        "ls"
      ],
      "metadata": {
        "colab": {
          "base_uri": "https://localhost:8080/"
        },
        "id": "VIgPdsVb9CVj",
        "outputId": "45ea0e71-6660-448e-c1ca-336015b9250b"
      },
      "execution_count": 3,
      "outputs": [
        {
          "output_type": "stream",
          "name": "stdout",
          "text": [
            "\u001b[0m\u001b[01;34mspeech-emotion-recognition-ravdess-data\u001b[0m/\n"
          ]
        }
      ]
    },
    {
      "cell_type": "code",
      "source": [
        "import librosa\n",
        "import soundfile\n",
        "import os, glob, pickle\n",
        "import numpy as np\n",
        "from sklearn.model_selection import train_test_split\n",
        "from sklearn.neural_network import MLPClassifier\n",
        "from sklearn.metrics import accuracy_score\n",
        "import matplotlib.pyplot as plt"
      ],
      "metadata": {
        "id": "H3tYxPsl9Gtz"
      },
      "execution_count": 4,
      "outputs": []
    },
    {
      "cell_type": "code",
      "source": [
        "#Extract features (mfcc, chroma, mel) from a sound file\n",
        "def extract_feature(file_name, mfcc, chroma, mel):\n",
        "    with soundfile.SoundFile(file_name) as sound_file:\n",
        "        X = sound_file.read(dtype=\"float32\")\n",
        "        sample_rate=sound_file.samplerate\n",
        "        if chroma:\n",
        "            stft=np.abs(librosa.stft(X))\n",
        "        result=np.array([])\n",
        "        if mfcc:\n",
        "            mfccs=np.mean(librosa.feature.mfcc(y=X, sr=sample_rate, n_mfcc=40).T, axis=0)\n",
        "            result=np.hstack((result, mfccs))\n",
        "        if chroma:\n",
        "            chroma=np.mean(librosa.feature.chroma_stft(S=stft, sr=sample_rate).T,axis=0)\n",
        "            result=np.hstack((result, chroma))\n",
        "        if mel:\n",
        "            mel=np.mean(librosa.feature.melspectrogram(X, sr=sample_rate).T,axis=0)\n",
        "            result=np.hstack((result, mel))\n",
        "        return result           "
      ],
      "metadata": {
        "id": "R1BSn5m19Ldz"
      },
      "execution_count": 7,
      "outputs": []
    },
    {
      "cell_type": "code",
      "source": [
        "# Emotions in the RAVDESS dataset\n",
        "emotions={\n",
        "  '01':'neutral',\n",
        "  '02':'calm',\n",
        "  '03':'happy',\n",
        "  '04':'sad',\n",
        "  '05':'angry',\n",
        "  '06':'fearful',\n",
        "  '07':'disgust',\n",
        "  '08':'surprised'\n",
        "}\n",
        "\n",
        "#Emotions to observe\n",
        "observed_emotions=['calm', 'happy', 'fearful', 'disgust']"
      ],
      "metadata": {
        "id": "mfjK6k2m9Wx8"
      },
      "execution_count": 8,
      "outputs": []
    },
    {
      "cell_type": "code",
      "source": [
        "#Load the data and extract features for each sound file\n",
        "def load_data(test_size=0.2):\n",
        "    x,y=[],[]\n",
        "    for file in glob.glob(\"/content/drive/MyDrive/RAVDESS DATA/speech-emotion-recognition-ravdess-data/Actor_*/*.wav\"):\n",
        "        file_name=os.path.basename(file)\n",
        "        emotion=emotions[file_name.split(\"-\")[2]]\n",
        "        if emotion not in observed_emotions:\n",
        "            continue\n",
        "        feature=extract_feature(file, mfcc=True, chroma=True, mel=True)\n",
        "        x.append(feature)\n",
        "        y.append(emotion)\n",
        "    return train_test_split(np.array(x), y, test_size=test_size, random_state=9)"
      ],
      "metadata": {
        "id": "58dMNg1R9gyU"
      },
      "execution_count": 9,
      "outputs": []
    },
    {
      "cell_type": "code",
      "source": [
        "#Split the dataset\n",
        "x_train,x_test,y_train,y_test=load_data(test_size=0.25)"
      ],
      "metadata": {
        "id": "h5q5NFYv9l1M"
      },
      "execution_count": 16,
      "outputs": []
    },
    {
      "cell_type": "code",
      "source": [
        "x_train"
      ],
      "metadata": {
        "colab": {
          "base_uri": "https://localhost:8080/"
        },
        "id": "E59zp7wg9skU",
        "outputId": "09a43146-3569-4e5e-88cd-c22f104b03d3"
      },
      "execution_count": 18,
      "outputs": [
        {
          "output_type": "execute_result",
          "data": {
            "text/plain": [
              "array([[-6.54364929e+02,  5.59474030e+01,  1.00320959e+01, ...,\n",
              "         5.19384639e-06,  4.13871658e-06,  2.09481800e-06],\n",
              "       [-4.06886902e+02,  3.92465687e+00, -3.57620888e+01, ...,\n",
              "         2.10690731e-03,  1.39552972e-03,  5.71330020e-04],\n",
              "       [-4.74077240e+02,  1.22089348e+01, -2.70769711e+01, ...,\n",
              "         5.35305240e-04,  3.11566429e-04,  2.22294897e-04],\n",
              "       ...,\n",
              "       [-6.02701782e+02,  6.38962364e+01, -6.86303377e-01, ...,\n",
              "         6.55650147e-05,  2.93123740e-05,  1.56385413e-05],\n",
              "       [-5.09563599e+02,  2.71493607e+01, -1.39932795e+01, ...,\n",
              "         1.02189624e-04,  6.04939014e-05,  2.96137096e-05],\n",
              "       [-6.34414917e+02,  5.94407043e+01, -6.70986843e+00, ...,\n",
              "         7.27277948e-05,  3.44498148e-05,  1.66608024e-05]])"
            ]
          },
          "metadata": {},
          "execution_count": 18
        }
      ]
    },
    {
      "cell_type": "code",
      "source": [
        "#Get the shape of the training and testing datasets\n",
        "print((x_train.shape[0], x_test.shape[0]))"
      ],
      "metadata": {
        "colab": {
          "base_uri": "https://localhost:8080/"
        },
        "id": "ayHGCeNi9wi0",
        "outputId": "bb7fdc38-9231-4d5b-d7ec-0384dd50e5df"
      },
      "execution_count": 19,
      "outputs": [
        {
          "output_type": "stream",
          "name": "stdout",
          "text": [
            "(576, 192)\n"
          ]
        }
      ]
    },
    {
      "cell_type": "code",
      "source": [
        "#Get the number of features extracted\n",
        "print(f'Features extracted: {x_train.shape[1]}')"
      ],
      "metadata": {
        "colab": {
          "base_uri": "https://localhost:8080/"
        },
        "id": "12ZdrGmc90F8",
        "outputId": "ad41792c-dadc-4ab4-cee8-fedbf316dc85"
      },
      "execution_count": 20,
      "outputs": [
        {
          "output_type": "stream",
          "name": "stdout",
          "text": [
            "Features extracted: 180\n"
          ]
        }
      ]
    },
    {
      "cell_type": "code",
      "source": [
        "#Initialize the Multi Layer Perceptron Classifier\n",
        "model=MLPClassifier(alpha=0.01, batch_size=256, epsilon=1e-08, hidden_layer_sizes=(300,), learning_rate='adaptive', max_iter=500)"
      ],
      "metadata": {
        "id": "SP-l5Qef94d0"
      },
      "execution_count": 21,
      "outputs": []
    },
    {
      "cell_type": "code",
      "source": [
        "#Train the model\n",
        "model.fit(x_train,y_train)"
      ],
      "metadata": {
        "colab": {
          "base_uri": "https://localhost:8080/"
        },
        "id": "GjMvM6As98BF",
        "outputId": "2b61a685-2dd9-4408-d446-30b7bd53a707"
      },
      "execution_count": 22,
      "outputs": [
        {
          "output_type": "execute_result",
          "data": {
            "text/plain": [
              "MLPClassifier(alpha=0.01, batch_size=256, hidden_layer_sizes=(300,),\n",
              "              learning_rate='adaptive', max_iter=500)"
            ]
          },
          "metadata": {},
          "execution_count": 22
        }
      ]
    },
    {
      "cell_type": "code",
      "source": [
        "#Predict for the test set\n",
        "y_pred=model.predict(x_test)"
      ],
      "metadata": {
        "id": "5QkHfrVr9-z-"
      },
      "execution_count": 23,
      "outputs": []
    },
    {
      "cell_type": "code",
      "source": [
        "y_pred"
      ],
      "metadata": {
        "colab": {
          "base_uri": "https://localhost:8080/"
        },
        "id": "BJnM4-gP-B2k",
        "outputId": "ee4eb41c-aff8-4ed5-9e45-7c0f0aa3d79d"
      },
      "execution_count": 24,
      "outputs": [
        {
          "output_type": "execute_result",
          "data": {
            "text/plain": [
              "array(['disgust', 'disgust', 'calm', 'calm', 'disgust', 'disgust',\n",
              "       'disgust', 'happy', 'fearful', 'fearful', 'calm', 'calm', 'calm',\n",
              "       'happy', 'happy', 'disgust', 'disgust', 'disgust', 'calm',\n",
              "       'disgust', 'calm', 'happy', 'fearful', 'disgust', 'disgust',\n",
              "       'disgust', 'happy', 'fearful', 'calm', 'calm', 'calm', 'calm',\n",
              "       'disgust', 'happy', 'disgust', 'fearful', 'happy', 'fearful',\n",
              "       'disgust', 'calm', 'happy', 'calm', 'happy', 'fearful', 'disgust',\n",
              "       'fearful', 'happy', 'fearful', 'disgust', 'disgust', 'calm',\n",
              "       'calm', 'calm', 'happy', 'calm', 'fearful', 'calm', 'happy',\n",
              "       'disgust', 'happy', 'happy', 'fearful', 'calm', 'calm', 'disgust',\n",
              "       'fearful', 'fearful', 'disgust', 'fearful', 'disgust', 'calm',\n",
              "       'happy', 'happy', 'disgust', 'fearful', 'disgust', 'happy',\n",
              "       'disgust', 'disgust', 'disgust', 'disgust', 'happy', 'fearful',\n",
              "       'happy', 'disgust', 'fearful', 'fearful', 'happy', 'calm', 'happy',\n",
              "       'happy', 'disgust', 'calm', 'calm', 'calm', 'happy', 'calm',\n",
              "       'disgust', 'calm', 'disgust', 'calm', 'fearful', 'happy',\n",
              "       'disgust', 'happy', 'fearful', 'disgust', 'happy', 'disgust',\n",
              "       'calm', 'disgust', 'happy', 'happy', 'disgust', 'fearful', 'happy',\n",
              "       'happy', 'calm', 'happy', 'calm', 'disgust', 'fearful', 'disgust',\n",
              "       'calm', 'fearful', 'calm', 'calm', 'disgust', 'happy', 'happy',\n",
              "       'fearful', 'happy', 'calm', 'disgust', 'happy', 'disgust',\n",
              "       'disgust', 'happy', 'happy', 'fearful', 'happy', 'disgust',\n",
              "       'fearful', 'disgust', 'happy', 'disgust', 'happy', 'fearful',\n",
              "       'disgust', 'disgust', 'happy', 'fearful', 'calm', 'happy', 'happy',\n",
              "       'fearful', 'disgust', 'calm', 'fearful', 'fearful', 'happy',\n",
              "       'disgust', 'disgust', 'calm', 'disgust', 'happy', 'calm', 'calm',\n",
              "       'disgust', 'fearful', 'disgust', 'fearful', 'happy', 'fearful',\n",
              "       'disgust', 'fearful', 'happy', 'happy', 'disgust', 'disgust',\n",
              "       'happy', 'fearful', 'fearful', 'happy', 'disgust', 'calm', 'calm',\n",
              "       'calm', 'happy', 'happy', 'disgust', 'happy'], dtype='<U7')"
            ]
          },
          "metadata": {},
          "execution_count": 24
        }
      ]
    },
    {
      "cell_type": "code",
      "source": [
        "from sklearn.metrics import accuracy_score, f1_score"
      ],
      "metadata": {
        "id": "WbNlSh3D-GNU"
      },
      "execution_count": 25,
      "outputs": []
    },
    {
      "cell_type": "code",
      "source": [
        "f1_score(y_test, y_pred,average=None)"
      ],
      "metadata": {
        "colab": {
          "base_uri": "https://localhost:8080/"
        },
        "id": "7_4fCqtI-MmN",
        "outputId": "5c87b4b3-1b9b-42da-8372-3126de7b9809"
      },
      "execution_count": 26,
      "outputs": [
        {
          "output_type": "execute_result",
          "data": {
            "text/plain": [
              "array([0.79120879, 0.64285714, 0.725     , 0.65346535])"
            ]
          },
          "metadata": {},
          "execution_count": 26
        }
      ]
    },
    {
      "cell_type": "code",
      "source": [
        "import pandas as pd\n",
        "df=pd.DataFrame({'Actual': y_test, 'Predicted':y_pred})\n",
        "df.head(20)"
      ],
      "metadata": {
        "colab": {
          "base_uri": "https://localhost:8080/",
          "height": 677
        },
        "id": "WyJStxLO-POO",
        "outputId": "ab0eddf6-21ab-466a-d26e-1af09c29fa6b"
      },
      "execution_count": 27,
      "outputs": [
        {
          "output_type": "execute_result",
          "data": {
            "text/plain": [
              "     Actual Predicted\n",
              "0   disgust   disgust\n",
              "1   disgust   disgust\n",
              "2      calm      calm\n",
              "3      calm      calm\n",
              "4   disgust   disgust\n",
              "5   disgust   disgust\n",
              "6   fearful   disgust\n",
              "7   disgust     happy\n",
              "8   fearful   fearful\n",
              "9   fearful   fearful\n",
              "10     calm      calm\n",
              "11     calm      calm\n",
              "12     calm      calm\n",
              "13    happy     happy\n",
              "14    happy     happy\n",
              "15    happy   disgust\n",
              "16  fearful   disgust\n",
              "17  disgust   disgust\n",
              "18  disgust      calm\n",
              "19  disgust   disgust"
            ],
            "text/html": [
              "\n",
              "  <div id=\"df-7bb4aa39-0a81-48f6-8e72-96e961af14da\">\n",
              "    <div class=\"colab-df-container\">\n",
              "      <div>\n",
              "<style scoped>\n",
              "    .dataframe tbody tr th:only-of-type {\n",
              "        vertical-align: middle;\n",
              "    }\n",
              "\n",
              "    .dataframe tbody tr th {\n",
              "        vertical-align: top;\n",
              "    }\n",
              "\n",
              "    .dataframe thead th {\n",
              "        text-align: right;\n",
              "    }\n",
              "</style>\n",
              "<table border=\"1\" class=\"dataframe\">\n",
              "  <thead>\n",
              "    <tr style=\"text-align: right;\">\n",
              "      <th></th>\n",
              "      <th>Actual</th>\n",
              "      <th>Predicted</th>\n",
              "    </tr>\n",
              "  </thead>\n",
              "  <tbody>\n",
              "    <tr>\n",
              "      <th>0</th>\n",
              "      <td>disgust</td>\n",
              "      <td>disgust</td>\n",
              "    </tr>\n",
              "    <tr>\n",
              "      <th>1</th>\n",
              "      <td>disgust</td>\n",
              "      <td>disgust</td>\n",
              "    </tr>\n",
              "    <tr>\n",
              "      <th>2</th>\n",
              "      <td>calm</td>\n",
              "      <td>calm</td>\n",
              "    </tr>\n",
              "    <tr>\n",
              "      <th>3</th>\n",
              "      <td>calm</td>\n",
              "      <td>calm</td>\n",
              "    </tr>\n",
              "    <tr>\n",
              "      <th>4</th>\n",
              "      <td>disgust</td>\n",
              "      <td>disgust</td>\n",
              "    </tr>\n",
              "    <tr>\n",
              "      <th>5</th>\n",
              "      <td>disgust</td>\n",
              "      <td>disgust</td>\n",
              "    </tr>\n",
              "    <tr>\n",
              "      <th>6</th>\n",
              "      <td>fearful</td>\n",
              "      <td>disgust</td>\n",
              "    </tr>\n",
              "    <tr>\n",
              "      <th>7</th>\n",
              "      <td>disgust</td>\n",
              "      <td>happy</td>\n",
              "    </tr>\n",
              "    <tr>\n",
              "      <th>8</th>\n",
              "      <td>fearful</td>\n",
              "      <td>fearful</td>\n",
              "    </tr>\n",
              "    <tr>\n",
              "      <th>9</th>\n",
              "      <td>fearful</td>\n",
              "      <td>fearful</td>\n",
              "    </tr>\n",
              "    <tr>\n",
              "      <th>10</th>\n",
              "      <td>calm</td>\n",
              "      <td>calm</td>\n",
              "    </tr>\n",
              "    <tr>\n",
              "      <th>11</th>\n",
              "      <td>calm</td>\n",
              "      <td>calm</td>\n",
              "    </tr>\n",
              "    <tr>\n",
              "      <th>12</th>\n",
              "      <td>calm</td>\n",
              "      <td>calm</td>\n",
              "    </tr>\n",
              "    <tr>\n",
              "      <th>13</th>\n",
              "      <td>happy</td>\n",
              "      <td>happy</td>\n",
              "    </tr>\n",
              "    <tr>\n",
              "      <th>14</th>\n",
              "      <td>happy</td>\n",
              "      <td>happy</td>\n",
              "    </tr>\n",
              "    <tr>\n",
              "      <th>15</th>\n",
              "      <td>happy</td>\n",
              "      <td>disgust</td>\n",
              "    </tr>\n",
              "    <tr>\n",
              "      <th>16</th>\n",
              "      <td>fearful</td>\n",
              "      <td>disgust</td>\n",
              "    </tr>\n",
              "    <tr>\n",
              "      <th>17</th>\n",
              "      <td>disgust</td>\n",
              "      <td>disgust</td>\n",
              "    </tr>\n",
              "    <tr>\n",
              "      <th>18</th>\n",
              "      <td>disgust</td>\n",
              "      <td>calm</td>\n",
              "    </tr>\n",
              "    <tr>\n",
              "      <th>19</th>\n",
              "      <td>disgust</td>\n",
              "      <td>disgust</td>\n",
              "    </tr>\n",
              "  </tbody>\n",
              "</table>\n",
              "</div>\n",
              "      <button class=\"colab-df-convert\" onclick=\"convertToInteractive('df-7bb4aa39-0a81-48f6-8e72-96e961af14da')\"\n",
              "              title=\"Convert this dataframe to an interactive table.\"\n",
              "              style=\"display:none;\">\n",
              "        \n",
              "  <svg xmlns=\"http://www.w3.org/2000/svg\" height=\"24px\"viewBox=\"0 0 24 24\"\n",
              "       width=\"24px\">\n",
              "    <path d=\"M0 0h24v24H0V0z\" fill=\"none\"/>\n",
              "    <path d=\"M18.56 5.44l.94 2.06.94-2.06 2.06-.94-2.06-.94-.94-2.06-.94 2.06-2.06.94zm-11 1L8.5 8.5l.94-2.06 2.06-.94-2.06-.94L8.5 2.5l-.94 2.06-2.06.94zm10 10l.94 2.06.94-2.06 2.06-.94-2.06-.94-.94-2.06-.94 2.06-2.06.94z\"/><path d=\"M17.41 7.96l-1.37-1.37c-.4-.4-.92-.59-1.43-.59-.52 0-1.04.2-1.43.59L10.3 9.45l-7.72 7.72c-.78.78-.78 2.05 0 2.83L4 21.41c.39.39.9.59 1.41.59.51 0 1.02-.2 1.41-.59l7.78-7.78 2.81-2.81c.8-.78.8-2.07 0-2.86zM5.41 20L4 18.59l7.72-7.72 1.47 1.35L5.41 20z\"/>\n",
              "  </svg>\n",
              "      </button>\n",
              "      \n",
              "  <style>\n",
              "    .colab-df-container {\n",
              "      display:flex;\n",
              "      flex-wrap:wrap;\n",
              "      gap: 12px;\n",
              "    }\n",
              "\n",
              "    .colab-df-convert {\n",
              "      background-color: #E8F0FE;\n",
              "      border: none;\n",
              "      border-radius: 50%;\n",
              "      cursor: pointer;\n",
              "      display: none;\n",
              "      fill: #1967D2;\n",
              "      height: 32px;\n",
              "      padding: 0 0 0 0;\n",
              "      width: 32px;\n",
              "    }\n",
              "\n",
              "    .colab-df-convert:hover {\n",
              "      background-color: #E2EBFA;\n",
              "      box-shadow: 0px 1px 2px rgba(60, 64, 67, 0.3), 0px 1px 3px 1px rgba(60, 64, 67, 0.15);\n",
              "      fill: #174EA6;\n",
              "    }\n",
              "\n",
              "    [theme=dark] .colab-df-convert {\n",
              "      background-color: #3B4455;\n",
              "      fill: #D2E3FC;\n",
              "    }\n",
              "\n",
              "    [theme=dark] .colab-df-convert:hover {\n",
              "      background-color: #434B5C;\n",
              "      box-shadow: 0px 1px 3px 1px rgba(0, 0, 0, 0.15);\n",
              "      filter: drop-shadow(0px 1px 2px rgba(0, 0, 0, 0.3));\n",
              "      fill: #FFFFFF;\n",
              "    }\n",
              "  </style>\n",
              "\n",
              "      <script>\n",
              "        const buttonEl =\n",
              "          document.querySelector('#df-7bb4aa39-0a81-48f6-8e72-96e961af14da button.colab-df-convert');\n",
              "        buttonEl.style.display =\n",
              "          google.colab.kernel.accessAllowed ? 'block' : 'none';\n",
              "\n",
              "        async function convertToInteractive(key) {\n",
              "          const element = document.querySelector('#df-7bb4aa39-0a81-48f6-8e72-96e961af14da');\n",
              "          const dataTable =\n",
              "            await google.colab.kernel.invokeFunction('convertToInteractive',\n",
              "                                                     [key], {});\n",
              "          if (!dataTable) return;\n",
              "\n",
              "          const docLinkHtml = 'Like what you see? Visit the ' +\n",
              "            '<a target=\"_blank\" href=https://colab.research.google.com/notebooks/data_table.ipynb>data table notebook</a>'\n",
              "            + ' to learn more about interactive tables.';\n",
              "          element.innerHTML = '';\n",
              "          dataTable['output_type'] = 'display_data';\n",
              "          await google.colab.output.renderOutput(dataTable, element);\n",
              "          const docLink = document.createElement('div');\n",
              "          docLink.innerHTML = docLinkHtml;\n",
              "          element.appendChild(docLink);\n",
              "        }\n",
              "      </script>\n",
              "    </div>\n",
              "  </div>\n",
              "  "
            ]
          },
          "metadata": {},
          "execution_count": 27
        }
      ]
    },
    {
      "cell_type": "code",
      "source": [
        "import pickle\n",
        "# Writing different model files to file\n",
        "with open( 'modelForPrediction1.sav', 'wb') as f:\n",
        "    pickle.dump(model,f)"
      ],
      "metadata": {
        "id": "kuOsoMA8-SDr"
      },
      "execution_count": 28,
      "outputs": []
    },
    {
      "cell_type": "code",
      "source": [
        "filename = 'modelForPrediction1.sav'\n",
        "loaded_model = pickle.load(open(filename, 'rb')) # loading the model file from the storage\n",
        "\n",
        "feature=extract_feature(\"/content/drive/MyDrive/RAVDESS DATA/speech-emotion-recognition-ravdess-data/Actor_01/03-01-03-01-02-02-01.wav\", mfcc=True, chroma=True, mel=True)\n",
        "\n",
        "feature=feature.reshape(1,-1)\n",
        "\n",
        "prediction=loaded_model.predict(feature)\n",
        "prediction"
      ],
      "metadata": {
        "colab": {
          "base_uri": "https://localhost:8080/"
        },
        "id": "3VLJkZmT-aJ8",
        "outputId": "94d19827-271a-4250-ef40-a8704dc91bf6"
      },
      "execution_count": 29,
      "outputs": [
        {
          "output_type": "execute_result",
          "data": {
            "text/plain": [
              "array(['disgust'], dtype='<U7')"
            ]
          },
          "metadata": {},
          "execution_count": 29
        }
      ]
    },
    {
      "cell_type": "code",
      "source": [
        "feature"
      ],
      "metadata": {
        "colab": {
          "base_uri": "https://localhost:8080/"
        },
        "id": "oVuhJI8A-rm9",
        "outputId": "5413fcd6-d6d1-4a7f-d451-b50b04534279"
      },
      "execution_count": 30,
      "outputs": [
        {
          "output_type": "execute_result",
          "data": {
            "text/plain": [
              "array([[-6.35018066e+02,  4.89507713e+01,  2.72784328e+00,\n",
              "         1.72580223e+01, -2.41734004e+00, -6.83206134e-03,\n",
              "        -7.16416597e+00, -1.37409506e+01, -8.42472553e+00,\n",
              "         1.62511170e+00, -5.93697739e+00,  2.89293098e+00,\n",
              "        -6.72187948e+00,  2.43873429e+00, -4.60308409e+00,\n",
              "        -6.11418009e+00, -1.10687983e+00, -2.53769445e+00,\n",
              "        -5.91165733e+00, -2.70875597e+00, -2.44323778e+00,\n",
              "        -6.02066946e+00, -6.14662826e-01, -3.78392696e+00,\n",
              "        -3.91626811e+00, -1.30044806e+00, -3.33906841e+00,\n",
              "        -1.28022206e+00, -4.05895567e+00, -1.89656532e+00,\n",
              "        -4.55924606e+00, -2.86183119e+00, -2.62580824e+00,\n",
              "        -1.64863431e+00, -4.60142422e+00, -3.05698037e+00,\n",
              "        -3.14702010e+00, -2.58076882e+00, -2.19267058e+00,\n",
              "        -3.05325127e+00,  6.38672531e-01,  6.77346826e-01,\n",
              "         7.06679046e-01,  6.84544444e-01,  6.45216763e-01,\n",
              "         6.99994147e-01,  6.97099447e-01,  7.17782080e-01,\n",
              "         7.43450820e-01,  7.28027880e-01,  7.47324228e-01,\n",
              "         7.10399151e-01,  1.33785431e-06,  3.60989106e-05,\n",
              "         3.38759652e-04,  6.41937228e-03,  5.67286536e-02,\n",
              "         9.61044431e-02,  1.88643485e-02,  2.08926131e-03,\n",
              "         9.28258989e-03,  4.61240895e-02,  9.16559696e-02,\n",
              "         1.04062364e-01,  2.94163767e-02,  1.77705623e-02,\n",
              "         1.58053562e-02,  2.17747930e-02,  7.05867633e-02,\n",
              "         6.70841858e-02,  1.64125934e-02,  4.19271514e-02,\n",
              "         4.90093715e-02,  1.37933176e-02,  4.95723337e-02,\n",
              "         4.93198745e-02,  3.93311568e-02,  2.96388809e-02,\n",
              "         1.50111178e-02,  5.90284728e-03,  2.33792718e-02,\n",
              "         1.86802130e-02,  2.54468806e-02,  3.95863829e-03,\n",
              "         3.91940965e-04,  7.19429227e-04,  1.85116054e-03,\n",
              "         9.98168951e-04,  2.53406633e-03,  6.27578760e-04,\n",
              "         6.34328928e-04,  1.10098824e-03,  1.95637951e-03,\n",
              "         7.60032737e-04,  1.56223367e-03,  1.43495470e-03,\n",
              "         1.02273514e-03,  4.03348822e-03,  2.85758404e-03,\n",
              "         3.76258325e-03,  6.66980399e-03,  3.72190983e-03,\n",
              "         2.13039084e-03,  8.90107476e-04,  6.85378851e-04,\n",
              "         1.57493248e-03,  2.55259266e-03,  1.30606000e-03,\n",
              "         8.14831757e-04,  1.82076218e-03,  1.36679283e-03,\n",
              "         5.11618447e-04,  7.26331025e-04,  1.40341616e-03,\n",
              "         9.90666216e-04,  4.99375979e-04,  8.82045191e-04,\n",
              "         7.17162620e-04,  2.58541113e-04,  1.93364249e-04,\n",
              "         1.56946509e-04,  2.98178929e-04,  3.66291846e-04,\n",
              "         9.89925175e-05,  4.78371017e-04,  3.19523417e-04,\n",
              "         1.34307440e-04,  2.38515990e-04,  3.91873502e-04,\n",
              "         9.09427763e-04,  6.70707203e-04,  9.04455606e-04,\n",
              "         1.02790352e-03,  4.67477395e-04,  4.12836933e-04,\n",
              "         3.31024057e-04,  2.52657512e-04,  1.61883218e-04,\n",
              "         1.06553794e-04,  1.39100273e-04,  1.77026246e-04,\n",
              "         2.76408799e-04,  4.80108167e-04,  6.06769579e-04,\n",
              "         5.25542884e-04,  6.47140900e-04,  7.38623377e-04,\n",
              "         7.67547579e-04,  6.73467817e-04,  3.33761389e-04,\n",
              "         1.41711163e-04,  2.52900383e-04,  6.21395244e-04,\n",
              "         4.70051280e-04,  5.22390765e-04,  4.06152511e-04,\n",
              "         7.86661985e-04,  8.19236448e-04,  6.74427312e-04,\n",
              "         6.04653091e-04,  5.69538388e-04,  5.80849533e-04,\n",
              "         4.20870580e-04,  2.84354639e-04,  4.83117939e-04,\n",
              "         6.26631139e-04,  5.80524676e-04,  5.90306940e-04,\n",
              "         3.24775639e-04,  2.20721064e-04,  1.32591915e-04,\n",
              "         5.94823759e-05,  4.45432488e-05,  3.89705856e-05,\n",
              "         3.56402161e-05,  5.06600118e-05,  8.00168928e-05,\n",
              "         4.33580026e-05,  2.98165796e-05,  9.39767688e-06]])"
            ]
          },
          "metadata": {},
          "execution_count": 30
        }
      ]
    },
    {
      "cell_type": "code",
      "source": [
        "#Calculate the accuracy of our model\n",
        "accuracy=accuracy_score(y_true=y_test, y_pred=y_pred)\n",
        "\n",
        "#Print the accuracy\n",
        "print(\"Accuracy: {:.2f}%\".format(accuracy*100))"
      ],
      "metadata": {
        "colab": {
          "base_uri": "https://localhost:8080/"
        },
        "id": "wxkdtdjP-0qc",
        "outputId": "b0d3b5d9-1a73-418a-deb8-a188bb9972ca"
      },
      "execution_count": 31,
      "outputs": [
        {
          "output_type": "stream",
          "name": "stdout",
          "text": [
            "Accuracy: 69.79%\n"
          ]
        }
      ]
    }
  ]
}